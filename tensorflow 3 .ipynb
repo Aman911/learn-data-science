{
 "cells": [
  {
   "cell_type": "code",
   "execution_count": 1,
   "metadata": {
    "collapsed": true
   },
   "outputs": [],
   "source": [
    "import numpy as np"
   ]
  },
  {
   "cell_type": "code",
   "execution_count": 2,
   "metadata": {
    "collapsed": true
   },
   "outputs": [],
   "source": [
    "import tensorflow as tf"
   ]
  },
  {
   "cell_type": "code",
   "execution_count": 3,
   "metadata": {
    "collapsed": true
   },
   "outputs": [],
   "source": [
    "import matplotlib.patches as mpatches"
   ]
  },
  {
   "cell_type": "code",
   "execution_count": 4,
   "metadata": {
    "collapsed": true
   },
   "outputs": [],
   "source": [
    "import matplotlib.pyplot as plt"
   ]
  },
  {
   "cell_type": "code",
   "execution_count": 5,
   "metadata": {
    "collapsed": true
   },
   "outputs": [],
   "source": [
    "%matplotlib inline"
   ]
  },
  {
   "cell_type": "code",
   "execution_count": 6,
   "metadata": {
    "collapsed": true
   },
   "outputs": [],
   "source": [
    "plt.rcParams['figure.figsize'] = (10, 6)"
   ]
  },
  {
   "cell_type": "code",
   "execution_count": 7,
   "metadata": {},
   "outputs": [
    {
     "data": {
      "text/plain": [
       "array([ 0. ,  0.1,  0.2,  0.3,  0.4,  0.5,  0.6,  0.7,  0.8,  0.9,  1. ,\n",
       "        1.1,  1.2,  1.3,  1.4,  1.5,  1.6,  1.7,  1.8,  1.9,  2. ,  2.1,\n",
       "        2.2,  2.3,  2.4,  2.5,  2.6,  2.7,  2.8,  2.9,  3. ,  3.1,  3.2,\n",
       "        3.3,  3.4,  3.5,  3.6,  3.7,  3.8,  3.9,  4. ,  4.1,  4.2,  4.3,\n",
       "        4.4,  4.5,  4.6,  4.7,  4.8,  4.9])"
      ]
     },
     "execution_count": 7,
     "metadata": {},
     "output_type": "execute_result"
    }
   ],
   "source": [
    "X = np.arange(0.0, 5.0, 0.1)\n",
    "X"
   ]
  },
  {
   "cell_type": "code",
   "execution_count": 10,
   "metadata": {},
   "outputs": [],
   "source": [
    "a=1\n",
    "b=0\n",
    "\n",
    "Y = a*X + b"
   ]
  },
  {
   "cell_type": "code",
   "execution_count": 12,
   "metadata": {},
   "outputs": [
    {
     "data": {
      "text/plain": [
       "<matplotlib.text.Text at 0x1a0093f44e0>"
      ]
     },
     "execution_count": 12,
     "metadata": {},
     "output_type": "execute_result"
    },
    {
     "data": {
      "image/png": "[encoded data removed]",
      "text/plain": [
       "<matplotlib.figure.Figure at 0x1a009a73fd0>"
      ]
     },
     "metadata": {},
     "output_type": "display_data"
    }
   ],
   "source": [
    "plt.plot(X,Y)\n",
    "plt.ylabel('dependent variable')\n",
    "plt.xlabel('independent variable')"
   ]
  },
  {
   "cell_type": "code",
   "execution_count": 13,
   "metadata": {},
   "outputs": [
    {
     "data": {
      "text/plain": [
       "array([ 0.22251801,  0.6854946 ,  0.16954744,  0.89488113,  0.36578178,\n",
       "        0.69636649,  0.10055942,  0.47663113,  0.1408525 ,  0.80490834,\n",
       "        0.24262094,  0.6880765 ,  0.88573253,  0.38498592,  0.79454559,\n",
       "        0.66355854,  0.15877225,  0.72183925,  0.11035273,  0.37302205,\n",
       "        0.45817912,  0.30007976,  0.31055084,  0.79721653,  0.45383719,\n",
       "        0.18596929,  0.15958051,  0.06897219,  0.86753291,  0.94938105,\n",
       "        0.13388102,  0.40357426,  0.53928977,  0.93050683,  0.00254653,\n",
       "        0.94150734,  0.35456139,  0.60581887,  0.42581266,  0.68980217,\n",
       "        0.36153212,  0.51812637,  0.01261008,  0.20299067,  0.8211937 ,\n",
       "        0.41087246,  0.5245288 ,  0.988056  ,  0.07440529,  0.26023427,\n",
       "        0.14235036,  0.1072623 ,  0.58056259,  0.88896495,  0.94652009,\n",
       "        0.31629214,  0.9475199 ,  0.30286485,  0.48936602,  0.80286425,\n",
       "        0.27121806,  0.34755874,  0.51571548,  0.06120693,  0.30891347,\n",
       "        0.53543687,  0.38753122,  0.51340514,  0.63633341,  0.00380011,\n",
       "        0.79765314,  0.26672843,  0.52891332,  0.72634411,  0.58495408,\n",
       "        0.98938054,  0.77247661,  0.56333798,  0.78335559,  0.92705131,\n",
       "        0.08496704,  0.37474903,  0.46796027,  0.36461642,  0.32438546,\n",
       "        0.36057395,  0.86726004,  0.6269967 ,  0.40937808,  0.69399941,\n",
       "        0.58774728,  0.73783368,  0.81843418,  0.32741541,  0.15405288,\n",
       "        0.90274531,  0.57917517,  0.13834946,  0.91931897,  0.45080885], dtype=float32)"
      ]
     },
     "execution_count": 13,
     "metadata": {},
     "output_type": "execute_result"
    }
   ],
   "source": [
    "x_data = np.random.rand(100).astype(np.float32)\n",
    "x_data"
   ]
  },
  {
   "cell_type": "code",
   "execution_count": 14,
   "metadata": {
    "collapsed": true
   },
   "outputs": [],
   "source": [
    "y_data = x_data * 3 + 2\n",
    "y_data = np.vectorize(lambda y: y + np.random.normal(loc=0.0, scale=0.1))(y_data)"
   ]
  },
  {
   "cell_type": "code",
   "execution_count": 19,
   "metadata": {},
   "outputs": [
    {
     "data": {
      "text/plain": [
       "[(0.22251801, 2.7008875633276679),\n",
       " (0.6854946, 3.8869061844468065),\n",
       " (0.16954744, 2.4046375543552934),\n",
       " (0.89488113, 4.550305998627465),\n",
       " (0.36578178, 3.345479227330403)]"
      ]
     },
     "execution_count": 19,
     "metadata": {},
     "output_type": "execute_result"
    }
   ],
   "source": [
    "list(zip(x_data,y_data)) [0:5]"
   ]
  },
  {
   "cell_type": "code",
   "execution_count": 20,
   "metadata": {
    "collapsed": true
   },
   "outputs": [],
   "source": [
    "a = tf.Variable(1.0)\n",
    "b = tf.Variable(0.2)\n",
    "y = a * x_data + b"
   ]
  },
  {
   "cell_type": "code",
   "execution_count": 21,
   "metadata": {
    "collapsed": true
   },
   "outputs": [],
   "source": [
    "loss = tf.reduce_mean(tf.square(y - y_data))"
   ]
  },
  {
   "cell_type": "code",
   "execution_count": 22,
   "metadata": {
    "collapsed": true
   },
   "outputs": [],
   "source": [
    "optimizer = tf.train.GradientDescentOptimizer(0.5)\n",
    "train = optimizer.minimize(loss)"
   ]
  },
  {
   "cell_type": "code",
   "execution_count": 23,
   "metadata": {
    "collapsed": true
   },
   "outputs": [],
   "source": [
    "init = tf.global_variables_initializer()\n",
    "sess = tf.Session()\n",
    "sess.run(init)"
   ]
  },
  {
   "cell_type": "code",
   "execution_count": 24,
   "metadata": {},
   "outputs": [
    {
     "name": "stdout",
     "output_type": "stream",
     "text": [
      "0 [2.5361912, 2.9820764]\n",
      "5 [2.4410195, 2.2853816]\n",
      "10 [2.5963476, 2.2042143]\n",
      "15 [2.7088447, 2.1447601]\n",
      "20 [2.7905216, 2.1015947]\n",
      "25 [2.8498218, 2.0702553]\n",
      "30 [2.8928759, 2.0475018]\n",
      "35 [2.924135, 2.0309818]\n",
      "40 [2.94683, 2.0189877]\n",
      "45 [2.9633076, 2.0102794]\n",
      "50 [2.9752707, 2.003957]\n",
      "55 [2.9839563, 1.9993669]\n",
      "60 [2.9902625, 1.9960341]\n",
      "65 [2.9948411, 1.9936144]\n",
      "70 [2.9981651, 1.9918576]\n",
      "75 [3.0005786, 1.9905822]\n",
      "80 [3.002331, 1.9896561]\n",
      "85 [3.0036032, 1.9889838]\n",
      "90 [3.0045269, 1.9884957]\n",
      "95 [3.0051975, 1.9881412]\n"
     ]
    }
   ],
   "source": [
    "train_data = []\n",
    "for step in range(100):\n",
    "    evals = sess.run([train,a,b])[1:]\n",
    "    if step % 5 == 0:\n",
    "        print(step, evals)\n",
    "        train_data.append(evals)"
   ]
  },
  {
   "cell_type": "code",
   "execution_count": 25,
   "metadata": {},
   "outputs": [
    {
     "data": {
      "image/png": "[encoded data removed]",
      "text/plain": [
       "<matplotlib.figure.Figure at 0x1a009c60c50>"
      ]
     },
     "metadata": {},
     "output_type": "display_data"
    }
   ],
   "source": [
    "converter = plt.colors\n",
    "cr, cg, cb = (1.0, 1.0, 0.0)\n",
    "for f in train_data:\n",
    "    cb += 1.0 / len(train_data)\n",
    "    cg -= 1.0 / len(train_data)\n",
    "    if cb > 1.0: cb = 1.0\n",
    "    if cg < 0.0: cg = 0.0\n",
    "    [a, b] = f\n",
    "    f_y = np.vectorize(lambda x: a*x + b)(x_data)\n",
    "    line = plt.plot(x_data, f_y)\n",
    "    plt.setp(line, color=(cr,cg,cb))\n",
    "\n",
    "plt.plot(x_data, y_data, 'ro')\n",
    "\n",
    "\n",
    "green_line = mpatches.Patch(color='red', label='Data Points')\n",
    "\n",
    "plt.legend(handles=[green_line])\n",
    "\n",
    "plt.show()"
   ]
  },
  {
   "cell_type": "code",
   "execution_count": null,
   "metadata": {
    "collapsed": true
   },
   "outputs": [],
   "source": []
  }
 ],
 "metadata": {
  "kernelspec": {
   "display_name": "Python 3",
   "language": "python",
   "name": "python3"
  },
  "language_info": {
   "codemirror_mode": {
    "name": "ipython",
    "version": 3
   },
   "file_extension": ".py",
   "mimetype": "text/x-python",
   "name": "python",
   "nbconvert_exporter": "python",
   "pygments_lexer": "ipython3",
   "version": "3.6.1"
  }
 },
 "nbformat": 4,
 "nbformat_minor": 2
}
